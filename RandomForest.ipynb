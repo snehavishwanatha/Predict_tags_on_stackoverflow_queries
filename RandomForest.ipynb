{
 "cells": [
  {
   "cell_type": "code",
   "execution_count": 159,
   "metadata": {
    "colab": {},
    "colab_type": "code",
    "id": "I7qwX_9KCAeh"
   },
   "outputs": [],
   "source": [
    "import pandas as pd\n",
    "import re\n",
    "import random\n",
    "from ast import literal_eval\n",
    "import numpy as np\n",
    "from sklearn.model_selection import train_test_split\n",
    "from sklearn.feature_extraction.text import TfidfVectorizer\n",
    "from collections import Counter\n",
    "from sklearn.metrics import accuracy_score\n",
    "from sklearn.metrics import f1_score\n",
    "from sklearn.metrics import roc_auc_score \n",
    "from sklearn.metrics import average_precision_score\n",
    "from sklearn.metrics import recall_score\n",
    "from sklearn.ensemble import RandomForestClassifier\n",
    "from sklearn.preprocessing import MultiLabelBinarizer\n"
   ]
  },
  {
   "cell_type": "code",
   "execution_count": 160,
   "metadata": {
    "colab": {
     "base_uri": "https://localhost:8080/",
     "height": 51
    },
    "colab_type": "code",
    "id": "Mm1ImcEQHo2E",
    "outputId": "c3cebdb7-183f-4691-aa2a-4ebd1dc5c16e"
   },
   "outputs": [
    {
     "name": "stdout",
     "output_type": "stream",
     "text": [
      "[nltk_data] Downloading package stopwords to /home/sneha/nltk_data...\n",
      "[nltk_data]   Package stopwords is already up-to-date!\n"
     ]
    }
   ],
   "source": [
    "import nltk\n",
    "nltk.download('stopwords')\n",
    "from nltk.corpus import stopwords"
   ]
  },
  {
   "cell_type": "code",
   "execution_count": 161,
   "metadata": {
    "colab": {},
    "colab_type": "code",
    "id": "cBHK7O96CSLE"
   },
   "outputs": [],
   "source": [
    "url = 'https://github.com/snehavishwanatha/Predict_tags_on_stackoverflow_queries/raw/master/data/train.tsv'\n",
    "df = pd.read_csv(url, sep='\\t')\n",
    "\n",
    "url1 = 'https://github.com/snehavishwanatha/Predict_tags_on_stackoverflow_queries/raw/master/data/validation.tsv'\n",
    "df1 = pd.read_csv(url1, sep='\\t')"
   ]
  },
  {
   "cell_type": "code",
   "execution_count": 162,
   "metadata": {
    "colab": {},
    "colab_type": "code",
    "id": "hKjq_Ega3f9j"
   },
   "outputs": [],
   "source": [
    "df['tags'] = df['tags'].apply(literal_eval)\n",
    "df1['tags'] = df1['tags'].apply(literal_eval)"
   ]
  },
  {
   "cell_type": "code",
   "execution_count": 163,
   "metadata": {
    "colab": {
     "base_uri": "https://localhost:8080/",
     "height": 221
    },
    "colab_type": "code",
    "id": "7LZMJcH0CSM5",
    "outputId": "299a1d8b-00bd-4aec-9f26-86686fbf5b1c"
   },
   "outputs": [
    {
     "name": "stdout",
     "output_type": "stream",
     "text": [
      "                                               title  \\\n",
      "0                         Why odbc_exec always fail?   \n",
      "1  Access a base classes variable from within a c...   \n",
      "2  Content-Type \"application/json\" not required i...   \n",
      "3         Sessions in Sinatra: Used to Pass Variable   \n",
      "4  Getting error - type \"json\" does not exist - i...   \n",
      "5                        library not found for.....?   \n",
      "6  .csproj File - Programmatic adding/deleting files   \n",
      "7  TypeError: makedirs() got an unexpected keywor...   \n",
      "8                      How to Pan a div using JQuery   \n",
      "9          Hibernate intermediate/advanced tutorials   \n",
      "\n",
      "                          tags  \n",
      "0                   [php, sql]  \n",
      "1                 [javascript]  \n",
      "2        [ruby-on-rails, ruby]  \n",
      "3              [ruby, session]  \n",
      "4  [ruby-on-rails, ruby, json]  \n",
      "5    [c++, iphone, ios, xcode]  \n",
      "6                         [c#]  \n",
      "7             [python, django]  \n",
      "8   [javascript, jquery, html]  \n",
      "9            [java, hibernate]  \n",
      "30000\n"
     ]
    }
   ],
   "source": [
    "print(df1.head(10))\n",
    "print(len(df1))"
   ]
  },
  {
   "cell_type": "code",
   "execution_count": 164,
   "metadata": {
    "colab": {},
    "colab_type": "code",
    "id": "BW4yihROF0Pw"
   },
   "outputs": [],
   "source": [
    "train = df\n",
    "test = df1"
   ]
  },
  {
   "cell_type": "code",
   "execution_count": 165,
   "metadata": {
    "colab": {
     "base_uri": "https://localhost:8080/",
     "height": 359
    },
    "colab_type": "code",
    "id": "J8FWwslbCSPO",
    "outputId": "092f9c38-f0bb-48fb-bedd-088782aa581b"
   },
   "outputs": [
    {
     "data": {
      "text/html": [
       "<div>\n",
       "<style>\n",
       "    .dataframe thead tr:only-child th {\n",
       "        text-align: right;\n",
       "    }\n",
       "\n",
       "    .dataframe thead th {\n",
       "        text-align: left;\n",
       "    }\n",
       "\n",
       "    .dataframe tbody tr th {\n",
       "        vertical-align: top;\n",
       "    }\n",
       "</style>\n",
       "<table border=\"1\" class=\"dataframe\">\n",
       "  <thead>\n",
       "    <tr style=\"text-align: right;\">\n",
       "      <th></th>\n",
       "      <th>title</th>\n",
       "      <th>tags</th>\n",
       "    </tr>\n",
       "  </thead>\n",
       "  <tbody>\n",
       "    <tr>\n",
       "      <th>0</th>\n",
       "      <td>How to draw a stacked dotplot in R?</td>\n",
       "      <td>[r]</td>\n",
       "    </tr>\n",
       "    <tr>\n",
       "      <th>1</th>\n",
       "      <td>mysql select all records where a datetime fiel...</td>\n",
       "      <td>[php, mysql]</td>\n",
       "    </tr>\n",
       "    <tr>\n",
       "      <th>2</th>\n",
       "      <td>How to terminate windows phone 8.1 app</td>\n",
       "      <td>[c#]</td>\n",
       "    </tr>\n",
       "    <tr>\n",
       "      <th>3</th>\n",
       "      <td>get current time in a specific country via jquery</td>\n",
       "      <td>[javascript, jquery]</td>\n",
       "    </tr>\n",
       "    <tr>\n",
       "      <th>4</th>\n",
       "      <td>Configuring Tomcat to Use SSL</td>\n",
       "      <td>[java]</td>\n",
       "    </tr>\n",
       "    <tr>\n",
       "      <th>5</th>\n",
       "      <td>Awesome nested set plugin - how to add new chi...</td>\n",
       "      <td>[ruby-on-rails]</td>\n",
       "    </tr>\n",
       "    <tr>\n",
       "      <th>6</th>\n",
       "      <td>How to create map from JSON response in Ruby o...</td>\n",
       "      <td>[ruby, ruby-on-rails-3, json]</td>\n",
       "    </tr>\n",
       "    <tr>\n",
       "      <th>7</th>\n",
       "      <td>rspec test if method is called</td>\n",
       "      <td>[ruby]</td>\n",
       "    </tr>\n",
       "    <tr>\n",
       "      <th>8</th>\n",
       "      <td>SpringBoot Catalina LifeCycle Exception</td>\n",
       "      <td>[java, spring, spring-mvc]</td>\n",
       "    </tr>\n",
       "    <tr>\n",
       "      <th>9</th>\n",
       "      <td>How to import data from excel to mysql databas...</td>\n",
       "      <td>[php, codeigniter]</td>\n",
       "    </tr>\n",
       "  </tbody>\n",
       "</table>\n",
       "</div>"
      ],
      "text/plain": [
       "                                               title  \\\n",
       "0                How to draw a stacked dotplot in R?   \n",
       "1  mysql select all records where a datetime fiel...   \n",
       "2             How to terminate windows phone 8.1 app   \n",
       "3  get current time in a specific country via jquery   \n",
       "4                      Configuring Tomcat to Use SSL   \n",
       "5  Awesome nested set plugin - how to add new chi...   \n",
       "6  How to create map from JSON response in Ruby o...   \n",
       "7                     rspec test if method is called   \n",
       "8            SpringBoot Catalina LifeCycle Exception   \n",
       "9  How to import data from excel to mysql databas...   \n",
       "\n",
       "                            tags  \n",
       "0                            [r]  \n",
       "1                   [php, mysql]  \n",
       "2                           [c#]  \n",
       "3           [javascript, jquery]  \n",
       "4                         [java]  \n",
       "5                [ruby-on-rails]  \n",
       "6  [ruby, ruby-on-rails-3, json]  \n",
       "7                         [ruby]  \n",
       "8     [java, spring, spring-mvc]  \n",
       "9             [php, codeigniter]  "
      ]
     },
     "execution_count": 165,
     "metadata": {},
     "output_type": "execute_result"
    }
   ],
   "source": [
    "train.head(10)"
   ]
  },
  {
   "cell_type": "code",
   "execution_count": 166,
   "metadata": {
    "colab": {
     "base_uri": "https://localhost:8080/",
     "height": 204
    },
    "colab_type": "code",
    "id": "Nx68hk4ZCSRP",
    "outputId": "bd3c1839-6437-4032-e5c9-c4e21ba7deab"
   },
   "outputs": [
    {
     "data": {
      "text/html": [
       "<div>\n",
       "<style>\n",
       "    .dataframe thead tr:only-child th {\n",
       "        text-align: right;\n",
       "    }\n",
       "\n",
       "    .dataframe thead th {\n",
       "        text-align: left;\n",
       "    }\n",
       "\n",
       "    .dataframe tbody tr th {\n",
       "        vertical-align: top;\n",
       "    }\n",
       "</style>\n",
       "<table border=\"1\" class=\"dataframe\">\n",
       "  <thead>\n",
       "    <tr style=\"text-align: right;\">\n",
       "      <th></th>\n",
       "      <th>title</th>\n",
       "      <th>tags</th>\n",
       "    </tr>\n",
       "  </thead>\n",
       "  <tbody>\n",
       "    <tr>\n",
       "      <th>0</th>\n",
       "      <td>Why odbc_exec always fail?</td>\n",
       "      <td>[php, sql]</td>\n",
       "    </tr>\n",
       "    <tr>\n",
       "      <th>1</th>\n",
       "      <td>Access a base classes variable from within a c...</td>\n",
       "      <td>[javascript]</td>\n",
       "    </tr>\n",
       "    <tr>\n",
       "      <th>2</th>\n",
       "      <td>Content-Type \"application/json\" not required i...</td>\n",
       "      <td>[ruby-on-rails, ruby]</td>\n",
       "    </tr>\n",
       "    <tr>\n",
       "      <th>3</th>\n",
       "      <td>Sessions in Sinatra: Used to Pass Variable</td>\n",
       "      <td>[ruby, session]</td>\n",
       "    </tr>\n",
       "    <tr>\n",
       "      <th>4</th>\n",
       "      <td>Getting error - type \"json\" does not exist - i...</td>\n",
       "      <td>[ruby-on-rails, ruby, json]</td>\n",
       "    </tr>\n",
       "  </tbody>\n",
       "</table>\n",
       "</div>"
      ],
      "text/plain": [
       "                                               title  \\\n",
       "0                         Why odbc_exec always fail?   \n",
       "1  Access a base classes variable from within a c...   \n",
       "2  Content-Type \"application/json\" not required i...   \n",
       "3         Sessions in Sinatra: Used to Pass Variable   \n",
       "4  Getting error - type \"json\" does not exist - i...   \n",
       "\n",
       "                          tags  \n",
       "0                   [php, sql]  \n",
       "1                 [javascript]  \n",
       "2        [ruby-on-rails, ruby]  \n",
       "3              [ruby, session]  \n",
       "4  [ruby-on-rails, ruby, json]  "
      ]
     },
     "execution_count": 166,
     "metadata": {},
     "output_type": "execute_result"
    }
   ],
   "source": [
    "test.head()"
   ]
  },
  {
   "cell_type": "code",
   "execution_count": 167,
   "metadata": {
    "colab": {},
    "colab_type": "code",
    "id": "DRSL7LblCSTj"
   },
   "outputs": [],
   "source": [
    "x_train, y_train = train['title'].values, train['tags'].values\n",
    "x_test, y_test = test['title'].values, test['tags'].values"
   ]
  },
  {
   "cell_type": "code",
   "execution_count": 168,
   "metadata": {
    "colab": {},
    "colab_type": "code",
    "id": "1YCwKyQJHP5Z"
   },
   "outputs": [],
   "source": [
    "REPLACE_BY_SPACE_RE = re.compile('[/(){}\\[\\]\\|@,;]')\n",
    "BAD_SYMBOLS_RE = re.compile('[^0-9a-z #+_]')\n",
    "STOPWORDS = set(stopwords.words('english'))\n",
    "\n",
    "def text_prepare(text):\n",
    "    \"\"\"\n",
    "        text: a string\n",
    "        \n",
    "        return: modified initial string\n",
    "    \"\"\"\n",
    "    text = text.lower()\n",
    "    text = re.sub(REPLACE_BY_SPACE_RE,\" \",text,)\n",
    "    text = re.sub(BAD_SYMBOLS_RE,\"\",text)\n",
    "    text = re.sub(r'\\s+',\" \",text)\n",
    "    text = \" \".join([word for word in text.split(\" \") if word not in STOPWORDS])\n",
    "    return text"
   ]
  },
  {
   "cell_type": "code",
   "execution_count": 169,
   "metadata": {
    "colab": {
     "base_uri": "https://localhost:8080/",
     "height": 17034
    },
    "colab_type": "code",
    "id": "WW7WaDMBgQHJ",
    "outputId": "e52ffab5-67c4-4270-d532-a4a0c9360698"
   },
   "outputs": [
    {
     "data": {
      "text/plain": [
       "'draw stacked dotplot r'"
      ]
     },
     "execution_count": 169,
     "metadata": {},
     "output_type": "execute_result"
    }
   ],
   "source": [
    "x_train = [text_prepare(x) for x in x_train]\n",
    "x_train[0]"
   ]
  },
  {
   "cell_type": "code",
   "execution_count": 170,
   "metadata": {
    "colab": {},
    "colab_type": "code",
    "id": "HYnr8EUJgSuf"
   },
   "outputs": [],
   "source": [
    "x_test = [text_prepare(x) for x in x_test]"
   ]
  },
  {
   "cell_type": "code",
   "execution_count": 171,
   "metadata": {
    "colab": {
     "base_uri": "https://localhost:8080/",
     "height": 85
    },
    "colab_type": "code",
    "id": "IR-4K-OGzFoP",
    "outputId": "6cf738d5-f45a-45e9-852c-de513333abe7"
   },
   "outputs": [
    {
     "data": {
      "text/plain": [
       "array([list(['r']), list(['php', 'mysql']), list(['c#']), ...,\n",
       "       list(['python', 'datetime', 'pandas']),\n",
       "       list(['javascript', 'jquery']), list(['java', 'list', 'generics'])],\n",
       "      dtype=object)"
      ]
     },
     "execution_count": 171,
     "metadata": {},
     "output_type": "execute_result"
    }
   ],
   "source": [
    "y_train"
   ]
  },
  {
   "cell_type": "code",
   "execution_count": 172,
   "metadata": {
    "colab": {
     "base_uri": "https://localhost:8080/",
     "height": 136
    },
    "colab_type": "code",
    "id": "hFDsipOJgs9X",
    "outputId": "142e0ad2-8021-4bd9-af70-a5f43707ebcf"
   },
   "outputs": [
    {
     "data": {
      "text/plain": [
       "TfidfVectorizer(analyzer='word', binary=False, decode_error='strict',\n",
       "        dtype=<class 'numpy.int64'>, encoding='utf-8', input='content',\n",
       "        lowercase=True, max_df=1.0, max_features=500, min_df=1,\n",
       "        ngram_range=(1, 1), norm='l2', preprocessor=None, smooth_idf=True,\n",
       "        stop_words='english', strip_accents=None, sublinear_tf=False,\n",
       "        token_pattern='(?u)\\\\b\\\\w\\\\w+\\\\b', tokenizer=None, use_idf=True,\n",
       "        vocabulary=None)"
      ]
     },
     "execution_count": 172,
     "metadata": {},
     "output_type": "execute_result"
    }
   ],
   "source": [
    "tfidf_converter = TfidfVectorizer(max_features=500, norm='l2', stop_words='english')\n",
    "tfidf_converter.fit(df['title'])"
   ]
  },
  {
   "cell_type": "code",
   "execution_count": 173,
   "metadata": {
    "colab": {},
    "colab_type": "code",
    "id": "Z1u0kJbWgtKq"
   },
   "outputs": [
    {
     "name": "stderr",
     "output_type": "stream",
     "text": [
      "/home/sneha/anaconda3/lib/python3.6/site-packages/sklearn/feature_extraction/text.py:1089: FutureWarning: Conversion of the second argument of issubdtype from `float` to `np.floating` is deprecated. In future, it will be treated as `np.float64 == np.dtype(float).type`.\n",
      "  if hasattr(X, 'dtype') and np.issubdtype(X.dtype, np.float):\n"
     ]
    }
   ],
   "source": [
    "train_tfidf =  tfidf_converter.transform(x_train)\n",
    "test_tfidf =  tfidf_converter.transform(x_test)"
   ]
  },
  {
   "cell_type": "code",
   "execution_count": 174,
   "metadata": {
    "colab": {
     "base_uri": "https://localhost:8080/",
     "height": 1717
    },
    "colab_type": "code",
    "id": "Vx5n6nCjsK8k",
    "outputId": "b0256583-add6-46fc-9082-1aed74a25b27"
   },
   "outputs": [
    {
     "data": {
      "text/plain": [
       "Counter({'r': 1727,\n",
       "         'php': 13907,\n",
       "         'mysql': 3092,\n",
       "         'c#': 19077,\n",
       "         'javascript': 19078,\n",
       "         'jquery': 7510,\n",
       "         'java': 18661,\n",
       "         'ruby-on-rails': 3344,\n",
       "         'ruby': 2326,\n",
       "         'ruby-on-rails-3': 692,\n",
       "         'json': 2026,\n",
       "         'spring': 1346,\n",
       "         'spring-mvc': 618,\n",
       "         'codeigniter': 786,\n",
       "         'class': 509,\n",
       "         'html': 4668,\n",
       "         'ios': 3256,\n",
       "         'c++': 6469,\n",
       "         'eclipse': 992,\n",
       "         'python': 8940,\n",
       "         'list': 693,\n",
       "         'objective-c': 4338,\n",
       "         'swift': 1465,\n",
       "         'xaml': 438,\n",
       "         'asp.net': 3939,\n",
       "         'wpf': 1289,\n",
       "         'multithreading': 1118,\n",
       "         'image': 672,\n",
       "         'performance': 512,\n",
       "         'twitter-bootstrap': 501,\n",
       "         'linq': 964,\n",
       "         'xml': 1347,\n",
       "         'numpy': 502,\n",
       "         'ajax': 1767,\n",
       "         'django': 1835,\n",
       "         'laravel': 525,\n",
       "         'android': 2818,\n",
       "         'rest': 456,\n",
       "         'asp.net-mvc': 1244,\n",
       "         'web-services': 633,\n",
       "         'string': 1573,\n",
       "         'excel': 443,\n",
       "         'winforms': 1468,\n",
       "         'arrays': 2277,\n",
       "         'c': 3119,\n",
       "         'sockets': 579,\n",
       "         'osx': 490,\n",
       "         'entity-framework': 649,\n",
       "         'mongodb': 350,\n",
       "         'opencv': 401,\n",
       "         'xcode': 900,\n",
       "         'uitableview': 460,\n",
       "         'algorithm': 419,\n",
       "         'python-2.7': 421,\n",
       "         'angularjs': 1353,\n",
       "         'dom': 400,\n",
       "         'swing': 759,\n",
       "         '.net': 3872,\n",
       "         'vb.net': 1918,\n",
       "         'google-maps': 408,\n",
       "         'hibernate': 807,\n",
       "         'wordpress': 478,\n",
       "         'iphone': 1909,\n",
       "         'sql': 1272,\n",
       "         'visual-studio': 574,\n",
       "         'linux': 793,\n",
       "         'facebook': 508,\n",
       "         'database': 740,\n",
       "         'file': 582,\n",
       "         'generics': 420,\n",
       "         'visual-studio-2010': 588,\n",
       "         'regex': 1442,\n",
       "         'html5': 842,\n",
       "         'jsp': 680,\n",
       "         'csv': 435,\n",
       "         'forms': 872,\n",
       "         'validation': 558,\n",
       "         'parsing': 403,\n",
       "         'function': 487,\n",
       "         'pandas': 479,\n",
       "         'sorting': 375,\n",
       "         'qt': 451,\n",
       "         'wcf': 389,\n",
       "         'css': 1769,\n",
       "         'date': 560,\n",
       "         'node.js': 771,\n",
       "         'sql-server': 585,\n",
       "         'unit-testing': 449,\n",
       "         'python-3.x': 379,\n",
       "         'loops': 389,\n",
       "         'windows': 838,\n",
       "         'pointers': 350,\n",
       "         'oop': 425,\n",
       "         'datetime': 557,\n",
       "         'servlets': 498,\n",
       "         'session': 415,\n",
       "         'cocoa-touch': 507,\n",
       "         'apache': 441,\n",
       "         'selenium': 431,\n",
       "         'maven': 432})"
      ]
     },
     "execution_count": 174,
     "metadata": {},
     "output_type": "execute_result"
    }
   ],
   "source": [
    "tags_counts = Counter()\n",
    "\n",
    "for tags in y_train:\n",
    "    for tag in tags:\n",
    "        tags_counts[tag] += 1\n",
    "tags_counts"
   ]
  },
  {
   "cell_type": "code",
   "execution_count": 175,
   "metadata": {},
   "outputs": [
    {
     "data": {
      "text/html": [
       "<div>\n",
       "<style>\n",
       "    .dataframe thead tr:only-child th {\n",
       "        text-align: right;\n",
       "    }\n",
       "\n",
       "    .dataframe thead th {\n",
       "        text-align: left;\n",
       "    }\n",
       "\n",
       "    .dataframe tbody tr th {\n",
       "        vertical-align: top;\n",
       "    }\n",
       "</style>\n",
       "<table border=\"1\" class=\"dataframe\">\n",
       "  <thead>\n",
       "    <tr style=\"text-align: right;\">\n",
       "      <th></th>\n",
       "      <th>r</th>\n",
       "      <th>php</th>\n",
       "      <th>mysql</th>\n",
       "      <th>c#</th>\n",
       "      <th>javascript</th>\n",
       "      <th>jquery</th>\n",
       "      <th>java</th>\n",
       "      <th>ruby-on-rails</th>\n",
       "      <th>ruby</th>\n",
       "      <th>ruby-on-rails-3</th>\n",
       "      <th>...</th>\n",
       "      <th>windows</th>\n",
       "      <th>pointers</th>\n",
       "      <th>oop</th>\n",
       "      <th>datetime</th>\n",
       "      <th>servlets</th>\n",
       "      <th>session</th>\n",
       "      <th>cocoa-touch</th>\n",
       "      <th>apache</th>\n",
       "      <th>selenium</th>\n",
       "      <th>maven</th>\n",
       "    </tr>\n",
       "  </thead>\n",
       "  <tbody>\n",
       "    <tr>\n",
       "      <th>0</th>\n",
       "      <td>0</td>\n",
       "      <td>0</td>\n",
       "      <td>0</td>\n",
       "      <td>0</td>\n",
       "      <td>0</td>\n",
       "      <td>0</td>\n",
       "      <td>0</td>\n",
       "      <td>0</td>\n",
       "      <td>0</td>\n",
       "      <td>0</td>\n",
       "      <td>...</td>\n",
       "      <td>0</td>\n",
       "      <td>0</td>\n",
       "      <td>0</td>\n",
       "      <td>0</td>\n",
       "      <td>0</td>\n",
       "      <td>0</td>\n",
       "      <td>0</td>\n",
       "      <td>0</td>\n",
       "      <td>0</td>\n",
       "      <td>0</td>\n",
       "    </tr>\n",
       "    <tr>\n",
       "      <th>1</th>\n",
       "      <td>0</td>\n",
       "      <td>0</td>\n",
       "      <td>0</td>\n",
       "      <td>0</td>\n",
       "      <td>0</td>\n",
       "      <td>0</td>\n",
       "      <td>0</td>\n",
       "      <td>0</td>\n",
       "      <td>0</td>\n",
       "      <td>0</td>\n",
       "      <td>...</td>\n",
       "      <td>0</td>\n",
       "      <td>0</td>\n",
       "      <td>0</td>\n",
       "      <td>0</td>\n",
       "      <td>0</td>\n",
       "      <td>0</td>\n",
       "      <td>0</td>\n",
       "      <td>0</td>\n",
       "      <td>0</td>\n",
       "      <td>0</td>\n",
       "    </tr>\n",
       "    <tr>\n",
       "      <th>2</th>\n",
       "      <td>0</td>\n",
       "      <td>0</td>\n",
       "      <td>0</td>\n",
       "      <td>0</td>\n",
       "      <td>0</td>\n",
       "      <td>0</td>\n",
       "      <td>0</td>\n",
       "      <td>0</td>\n",
       "      <td>0</td>\n",
       "      <td>0</td>\n",
       "      <td>...</td>\n",
       "      <td>0</td>\n",
       "      <td>0</td>\n",
       "      <td>0</td>\n",
       "      <td>0</td>\n",
       "      <td>0</td>\n",
       "      <td>0</td>\n",
       "      <td>0</td>\n",
       "      <td>0</td>\n",
       "      <td>0</td>\n",
       "      <td>0</td>\n",
       "    </tr>\n",
       "    <tr>\n",
       "      <th>3</th>\n",
       "      <td>0</td>\n",
       "      <td>0</td>\n",
       "      <td>0</td>\n",
       "      <td>0</td>\n",
       "      <td>0</td>\n",
       "      <td>0</td>\n",
       "      <td>0</td>\n",
       "      <td>0</td>\n",
       "      <td>0</td>\n",
       "      <td>0</td>\n",
       "      <td>...</td>\n",
       "      <td>0</td>\n",
       "      <td>0</td>\n",
       "      <td>0</td>\n",
       "      <td>0</td>\n",
       "      <td>0</td>\n",
       "      <td>0</td>\n",
       "      <td>0</td>\n",
       "      <td>0</td>\n",
       "      <td>0</td>\n",
       "      <td>0</td>\n",
       "    </tr>\n",
       "    <tr>\n",
       "      <th>4</th>\n",
       "      <td>0</td>\n",
       "      <td>0</td>\n",
       "      <td>0</td>\n",
       "      <td>0</td>\n",
       "      <td>0</td>\n",
       "      <td>0</td>\n",
       "      <td>0</td>\n",
       "      <td>0</td>\n",
       "      <td>0</td>\n",
       "      <td>0</td>\n",
       "      <td>...</td>\n",
       "      <td>0</td>\n",
       "      <td>0</td>\n",
       "      <td>0</td>\n",
       "      <td>0</td>\n",
       "      <td>0</td>\n",
       "      <td>0</td>\n",
       "      <td>0</td>\n",
       "      <td>0</td>\n",
       "      <td>0</td>\n",
       "      <td>0</td>\n",
       "    </tr>\n",
       "  </tbody>\n",
       "</table>\n",
       "<p>5 rows × 100 columns</p>\n",
       "</div>"
      ],
      "text/plain": [
       "   r  php  mysql  c#  javascript  jquery  java  ruby-on-rails  ruby  \\\n",
       "0  0    0      0   0           0       0     0              0     0   \n",
       "1  0    0      0   0           0       0     0              0     0   \n",
       "2  0    0      0   0           0       0     0              0     0   \n",
       "3  0    0      0   0           0       0     0              0     0   \n",
       "4  0    0      0   0           0       0     0              0     0   \n",
       "\n",
       "   ruby-on-rails-3  ...    windows  pointers  oop  datetime  servlets  \\\n",
       "0                0  ...          0         0    0         0         0   \n",
       "1                0  ...          0         0    0         0         0   \n",
       "2                0  ...          0         0    0         0         0   \n",
       "3                0  ...          0         0    0         0         0   \n",
       "4                0  ...          0         0    0         0         0   \n",
       "\n",
       "   session  cocoa-touch  apache  selenium  maven  \n",
       "0        0            0       0         0      0  \n",
       "1        0            0       0         0      0  \n",
       "2        0            0       0         0      0  \n",
       "3        0            0       0         0      0  \n",
       "4        0            0       0         0      0  \n",
       "\n",
       "[5 rows x 100 columns]"
      ]
     },
     "execution_count": 175,
     "metadata": {},
     "output_type": "execute_result"
    }
   ],
   "source": [
    "mlb = MultiLabelBinarizer()\n",
    "\n",
    "y_trained = pd.DataFrame(mlb.fit_transform(y_train),\n",
    "                   columns=tags_counts.keys())\n",
    "y_trained.head()"
   ]
  },
  {
   "cell_type": "code",
   "execution_count": 176,
   "metadata": {},
   "outputs": [],
   "source": [
    "clf = RandomForestClassifier(max_depth=600,random_state=50, \n",
    "                             criterion='entropy', warm_start=True)\n"
   ]
  },
  {
   "cell_type": "code",
   "execution_count": 177,
   "metadata": {},
   "outputs": [],
   "source": [
    "model = clf.fit(train_tfidf, y_trained)  "
   ]
  },
  {
   "cell_type": "code",
   "execution_count": 178,
   "metadata": {},
   "outputs": [],
   "source": [
    "predictions = clf.predict(test_tfidf)"
   ]
  },
  {
   "cell_type": "code",
   "execution_count": 179,
   "metadata": {},
   "outputs": [
    {
     "data": {
      "text/plain": [
       "array([0., 0., 0., 0., 0., 0., 0., 0., 0., 0., 0., 0., 0., 0., 0., 0., 0.,\n",
       "       0., 0., 0., 0., 0., 0., 0., 0., 0., 0., 0., 0., 0., 0., 0., 0., 0.,\n",
       "       0., 0., 0., 0., 0., 0., 0., 0., 0., 0., 0., 0., 0., 0., 0., 0., 0.,\n",
       "       0., 0., 0., 0., 0., 0., 0., 0., 0., 0., 0., 0., 0., 0., 0., 0., 0.,\n",
       "       0., 0., 0., 0., 0., 0., 0., 0., 0., 0., 0., 0., 0., 0., 0., 0., 0.,\n",
       "       0., 0., 0., 0., 0., 0., 0., 0., 0., 0., 0., 0., 0., 0., 0.])"
      ]
     },
     "execution_count": 179,
     "metadata": {},
     "output_type": "execute_result"
    }
   ],
   "source": [
    "predictions[0]"
   ]
  },
  {
   "cell_type": "code",
   "execution_count": 180,
   "metadata": {},
   "outputs": [
    {
     "name": "stdout",
     "output_type": "stream",
     "text": [
      "odbc_exec always fail ['php', 'sql'] ()\n",
      "access base classes variable within child class ['javascript'] ()\n",
      "contenttype application json required rails ['ruby-on-rails', 'ruby'] ('ruby-on-rails',)\n",
      "sessions sinatra used pass variable ['ruby', 'session'] ()\n",
      "getting error type json exist postgresql rake db migrate ['ruby-on-rails', 'ruby', 'json'] ('java', 'json')\n",
      "library found ['c++', 'iphone', 'ios', 'xcode'] ()\n",
      "csproj file programmatic adding deleting files ['c#'] ()\n",
      "typeerror makedirs got unexpected keyword argument exists_ok ['python', 'django'] ('forms', 'python')\n",
      "pan div using jquery ['javascript', 'jquery', 'html'] ('javascript', 'jquery')\n",
      "hibernate intermediate advanced tutorials ['java', 'hibernate'] ('hibernate', 'java')\n",
      "c# properties access values another function class ['c#', '.net', 'class'] ()\n",
      "use databinding 3d elements like visual3d uielement3d ['c#', 'wpf'] ('javascript',)\n",
      "check video exists youtube using php ['php'] ('php',)\n",
      "handle mouse dragging event jfreechart ['java'] ()\n",
      "dynamic data matrix wpf ['c#', 'wpf'] ('c#', 'wpf')\n",
      "wpf button external background image ['c#', 'wpf'] ('c#', 'wpf')\n",
      "isdigit rational numbers ['python', 'string'] ()\n",
      "make clicked tab active bootstrap ['django', 'twitter-bootstrap'] ('css', 'javascript', 'twitter-bootstrap')\n",
      "unable load class comgooglegsonjsonobject ['java', 'android'] ('eclipse', 'hibernate', 'java')\n",
      "determine string valid float value ['ruby-on-rails', 'ruby'] ()\n",
      "php equivalent javascript gettime  ['javascript', 'php', 'datetime'] ('javascript', 'php', 'regex')\n",
      "unknown python expression filenamer path file ['python', 'string'] ('python',)\n",
      "find index first uppercase character ['c#', 'string', 'linq'] ('iphone', 'objective-c')\n",
      "android webviewloaddatawithbaseurl fail render javascript ['javascript', 'android'] ('android', 'javascript')\n",
      "removing lines within filledcontour legend ['r'] ()\n",
      "stop disable internet access java ['java'] ('java',)\n",
      "translate function names django admin ['django'] ('django',)\n",
      "oracle jdbc euro character ['java', 'database'] ()\n",
      "rspec controller tests put update action nested resource ['ruby-on-rails'] ()\n",
      "java objectinputstream ['java'] ('java',)\n"
     ]
    }
   ],
   "source": [
    "pred_inversed = mlb.inverse_transform(predictions)\n",
    "for i in range(0,30):\n",
    "    print(x_test[i], y_test[i], pred_inversed[i])"
   ]
  },
  {
   "cell_type": "code",
   "execution_count": 181,
   "metadata": {},
   "outputs": [
    {
     "data": {
      "text/plain": [
       "10888"
      ]
     },
     "execution_count": 181,
     "metadata": {},
     "output_type": "execute_result"
    }
   ],
   "source": [
    "#NULL lables generated is high - noted\n",
    "nc = 0 \n",
    "for i in range(0,len(list(pred_inversed))):\n",
    "    if not len(list(pred_inversed[i])):\n",
    "        nc = nc + 1\n",
    "  #print(y_test[i],list(pred_inversed[i]))\n",
    "nc"
   ]
  },
  {
   "cell_type": "code",
   "execution_count": 182,
   "metadata": {
    "colab": {
     "base_uri": "https://localhost:8080/",
     "height": 34
    },
    "colab_type": "code",
    "id": "LDFZULBTEVuZ",
    "outputId": "c80b6581-1c40-4509-af98-a8bced11cbb5"
   },
   "outputs": [
    {
     "name": "stdout",
     "output_type": "stream",
     "text": [
      "ACCURACY 0.5376\n"
     ]
    }
   ],
   "source": [
    "accuracy = 0\n",
    "#print(len(list(pred_inversed)))\n",
    "for i in range(0,len(list(pred_inversed))):\n",
    "  #print(pred_inversed[i])\n",
    "  for j in range(0,len(list(pred_inversed[i]))):\n",
    "    #print(i, j, pred_inversed[i][j], y_test[i])\n",
    "    if pred_inversed[i][j] in y_test[i]:\n",
    "      accuracy = accuracy + 1\n",
    "      #print(\"A\", accuracy)\n",
    "      break\n",
    "print(\"ACCURACY\", accuracy/len(list(pred_inversed)))"
   ]
  },
  {
   "cell_type": "code",
   "execution_count": null,
   "metadata": {},
   "outputs": [],
   "source": []
  }
 ],
 "metadata": {
  "accelerator": "GPU",
  "colab": {
   "collapsed_sections": [],
   "name": "OneVsRest_LogisticRegression.ipynb",
   "provenance": [],
   "version": "0.3.2"
  },
  "kernelspec": {
   "display_name": "Python 3",
   "language": "python",
   "name": "python3"
  },
  "language_info": {
   "codemirror_mode": {
    "name": "ipython",
    "version": 3
   },
   "file_extension": ".py",
   "mimetype": "text/x-python",
   "name": "python",
   "nbconvert_exporter": "python",
   "pygments_lexer": "ipython3",
   "version": "3.6.8"
  }
 },
 "nbformat": 4,
 "nbformat_minor": 1
}
